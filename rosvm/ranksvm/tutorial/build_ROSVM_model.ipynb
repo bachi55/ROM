{
 "cells": [
  {
   "cell_type": "code",
   "execution_count": 1,
   "metadata": {},
   "outputs": [],
   "source": [
    "%load_ext autoreload\n",
    "%autoreload 2"
   ]
  },
  {
   "cell_type": "code",
   "execution_count": 18,
   "metadata": {},
   "outputs": [],
   "source": [
    "# --------------------\n",
    "# Import general stuff\n",
    "# --------------------\n",
    "import matplotlib.pyplot as plt\n",
    "\n",
    "from sklearn.model_selection import GroupKFold, GridSearchCV\n",
    "from sklearn.pipeline import make_pipeline\n",
    "\n",
    "# ----------------------------------\n",
    "# Import Retention Order SVM classes\n",
    "# ----------------------------------\n",
    "from rosvm.ranksvm.rank_svm_cls import KernelRankSVC\n",
    "from rosvm.ranksvm.analysis_utils import RankSVMAnalyzer\n",
    "from rosvm.ranksvm.tutorial.utils import read_dataset\n",
    "from rosvm.feature_extraction.featurizer_cls import CircularFPFeaturizer"
   ]
  },
  {
   "cell_type": "markdown",
   "metadata": {},
   "source": [
    "## Load Example Data\n",
    "\n",
    "We work with the five datasets used in the ECCB 2018 publication. Those include retention times measured on different chromatographic systems."
   ]
  },
  {
   "cell_type": "code",
   "execution_count": 4,
   "metadata": {},
   "outputs": [
    {
     "name": "stdout",
     "output_type": "stream",
     "text": [
      "Number of Measurements: 1081\n",
      "Datasets: ['Eawag_XBridgeC18', 'FEM_long', 'LIFE_old', 'RIKEN', 'UFZ_Phenomenex']\n"
     ]
    }
   ],
   "source": [
    "_, y, mol = read_dataset(\"./ECCB2018_data.csv\")  # we do not use the provided features, but calculated late them here\n",
    "print(\"Number of Measurements:\", len(y))\n",
    "\n",
    "datasets = y.get_unique_dss()\n",
    "print(\"Datasets:\", datasets)"
   ]
  },
  {
   "cell_type": "markdown",
   "metadata": {},
   "source": [
    "## Build Sklearn Pipeline\n",
    "\n",
    "We use [sklearn pipelines](https://scikit-learn.org/stable/modules/classes.html#module-sklearn.pipeline) to stream-line the calculation of the molecule features (here FCFP fingerprints) and ROSVM model training with hyper parameter estimation. \n",
    "\n",
    "#### First: Get the components of our pipeline"
   ]
  },
  {
   "cell_type": "code",
   "execution_count": 52,
   "metadata": {},
   "outputs": [],
   "source": [
    "# Fingerprinter to calculate the FCFP fingerprints from the given molecule representations (SMILES)\n",
    "# \n",
    "# \"only_freq_subs\": Final fingerprint vector only contains substructures, that appear often in the training set.\n",
    "fprinter = CircularFPFeaturizer(fp_type=\"FCFP\", only_freq_subs=True, output_dense_matrix=True, radius=2, \n",
    "                                min_subs_freq=0.01)\n",
    "\n",
    "# RankSVM model with default parameters\n",
    "ranksvm = KernelRankSVC(kernel=\"minmax\", random_state=102)  "
   ]
  },
  {
   "cell_type": "markdown",
   "metadata": {},
   "source": [
    "#### Second: We build the sklearn pipeline"
   ]
  },
  {
   "cell_type": "code",
   "execution_count": 53,
   "metadata": {},
   "outputs": [],
   "source": [
    "pipeline = make_pipeline(fprinter, ranksvm)"
   ]
  },
  {
   "cell_type": "markdown",
   "metadata": {},
   "source": [
    "#### Third: Set up the sklearn GridSearch "
   ]
  },
  {
   "cell_type": "code",
   "execution_count": 54,
   "metadata": {},
   "outputs": [],
   "source": [
    "gridsearchcv = GridSearchCV(estimator=pipeline, \n",
    "                            param_grid={\"kernelranksvc__C\": [1, 2, 4]},\n",
    "                            cv=GroupKFold(n_splits=3),\n",
    "                            n_jobs=1)"
   ]
  },
  {
   "cell_type": "markdown",
   "metadata": {},
   "source": [
    "## Optimize the Model (pipeline)"
   ]
  },
  {
   "cell_type": "code",
   "execution_count": 55,
   "metadata": {},
   "outputs": [
    {
     "name": "stdout",
     "output_type": "stream",
     "text": [
      "0.8743825034247346\n",
      "0.8372415687727628\n",
      "0.8457403726608881\n",
      "0.851810942645446\n",
      "0.8487800861354519\n"
     ]
    }
   ],
   "source": [
    "test_score = []\n",
    "for train, test in GroupKFold(n_splits=5).split(y, groups=mol):\n",
    "    ranksvm = gridsearchcv.fit(mol[train], y[train], groups=mol[train])\n",
    "    print(ranksvm.score(mol[test], y[test]))"
   ]
  },
  {
   "cell_type": "code",
   "execution_count": null,
   "metadata": {},
   "outputs": [],
   "source": []
  }
 ],
 "metadata": {
  "kernelspec": {
   "display_name": "Python 3",
   "language": "python",
   "name": "python3"
  },
  "language_info": {
   "codemirror_mode": {
    "name": "ipython",
    "version": 3
   },
   "file_extension": ".py",
   "mimetype": "text/x-python",
   "name": "python",
   "nbconvert_exporter": "python",
   "pygments_lexer": "ipython3",
   "version": "3.8.3"
  }
 },
 "nbformat": 4,
 "nbformat_minor": 4
}
